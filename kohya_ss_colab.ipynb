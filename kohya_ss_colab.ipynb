{
  "cells": [
    {
      "cell_type": "markdown",
      "metadata": {
        "id": "view-in-github",
        "colab_type": "text"
      },
      "source": [
        "<a href=\"https://colab.research.google.com/github/Kimyobu/kohya-ss-gui-colab/blob/main/kohya_ss_colab.ipynb\" target=\"_parent\"><img src=\"https://colab.research.google.com/assets/colab-badge.svg\" alt=\"Open In Colab\"/></a>"
      ]
    },
    {
      "cell_type": "code",
      "execution_count": 5,
      "metadata": {
        "id": "NrgcDwZxgDOe",
        "outputId": "9a12ee39-313d-4254-e91a-64a6ac9ac429",
        "colab": {
          "base_uri": "https://localhost:8080/"
        }
      },
      "outputs": [
        {
          "output_type": "stream",
          "name": "stdout",
          "text": [
            "SetUP Kohya ss GUI Complete\n"
          ]
        }
      ],
      "source": [
        "#@title SetUP Kohya ss GUI\n",
        "from google.colab import output\n",
        "%cd /content\n",
        "!git clone https://github.com/bmaltais/kohya_ss.git\n",
        "%cd kohya_ss\n",
        "!chmod +x ./setup.sh\n",
        "!bash setup.sh\n",
        "output.clear()\n",
        "print('SetUP Kohya ss GUI Complete')"
      ]
    },
    {
      "cell_type": "code",
      "source": [
        "!CUDA_VERSION=118 make cuda11x\n",
        "args = '--share' #@param {type: \"string\"}\n",
        "args = f\"\\\"{args}\\\"\"\n",
        "%cd /content/kohya_ss\n",
        "!python kohya_gui.py {args}"
      ],
      "metadata": {
        "id": "-9sdqVMiLv4T"
      },
      "execution_count": null,
      "outputs": []
    },
    {
      "cell_type": "code",
      "execution_count": null,
      "metadata": {
        "id": "24ekPOLTLq3S",
        "cellView": "form"
      },
      "outputs": [],
      "source": [
        "#@title Test with WebUI\n",
        "args = \"--share --no-half-vae --xformers --opt-sdp-attention --enable-insecure-extension- --theme dark\" #@param {type: \"string\"}\n",
        "args =  f\"\\\"{args}\\\"\"\n",
        "from google.colab import output\n",
        "import os\n",
        "if os.getenv('ready') != 'True':\n",
        "    !pip install --upgrade fastapi\n",
        "    !apt install libcairo2-dev pkg-config python3-dev\n",
        "    !pip install svglib\n",
        "    !pip install pytorch-lightning==1.6.5\n",
        "    !pip install torchmetrics==0.11.0\n",
        "    os.environ['ready'] = 'True'\n",
        "    output.clear()\n",
        "\n",
        "%cd /content\n",
        "if not os.path.exists('/content/ui'):\n",
        "    !git clone https://github.com/AUTOMATIC1111/stable-diffusion-webui.git ui\n",
        "\n",
        "%cd /content/ui\n",
        "\n",
        "model = '/content/train/model/last.safetensors' #@param {type:\"string\"}\n",
        "!cp {model} models/Stable-diffusion\n",
        "\n",
        "!sed -i -e 's/\\[\"sd_model_checkpoint\"\\]/\\[\"sd_model_checkpoint\",\"sd_vae\",\"CLIP_stop_at_last_layers\"\\]/g' /content/ui/modules/shared.py\n",
        "output.clear()\n",
        "!COMMANDLINE_ARGS={args} REQS_FILE=\"requirements.txt\" python launch.py"
      ]
    },
    {
      "cell_type": "code",
      "source": [
        "#@title Model Downloader\n",
        "url = '' #@param {type: \"string\"}\n",
        "directory = '' #@param {type: \"string\"}\n",
        "from google.colab import output\n",
        "!apt-get -y install -qq aria2\n",
        "output.clear()\n",
        "uri = f\"\\\"{url}\\\"\"\n",
        "!aria2c --console-log-level=error -c -x 16 -s 16 -k 1M {uri} -d {directory}"
      ],
      "metadata": {
        "cellView": "form",
        "id": "_xgSANfhbZ-_"
      },
      "execution_count": null,
      "outputs": []
    }
  ],
  "metadata": {
    "accelerator": "GPU",
    "colab": {
      "gpuType": "T4",
      "provenance": [],
      "include_colab_link": true
    },
    "kernelspec": {
      "display_name": "Python 3",
      "name": "python3"
    },
    "language_info": {
      "name": "python"
    }
  },
  "nbformat": 4,
  "nbformat_minor": 0
}